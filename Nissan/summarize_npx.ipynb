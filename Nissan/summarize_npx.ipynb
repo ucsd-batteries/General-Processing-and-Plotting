{
 "cells": [
  {
   "cell_type": "code",
   "execution_count": 119,
   "metadata": {},
   "outputs": [],
   "source": [
    "import pandas as pd\n",
    "import numpy as np\n",
    "\n",
    "rated_cap = 56.3\n",
    "\n",
    "def avg_soh(df, deg=False):\n",
    "    \"\"\"Calculates the average\"\"\"\n",
    "    latest_cells_soh = df.loc[:, 'cell_1':'cell_16'].iloc[-1, :]\n",
    "    avg_deg = np.average(latest_cells_soh / rated_cap * 100)\n",
    "    if deg:\n",
    "        return 100 - avg_deg\n",
    "    else:\n",
    "        return avg_deg\n",
    "\n",
    "def soh_std(df):\n",
    "    latest_cells_soh = df.loc[:, 'cell_1':'cell_16'].iloc[-1, :]\n",
    "    return np.std(latest_cells_soh)\n",
    "\n",
    "def avg_ir(df, deg=False, start_row=0):\n",
    "    latest_cells_ir = df.loc[:, 'cell_1_IR':'cell_16_IR'].iloc[-1, :]\n",
    "    latest_avg_ir = np.average(latest_cells_ir)\n",
    "\n",
    "    if deg:\n",
    "        oldest_cells_ir = df.loc[:, 'cell_1_IR':'cell_16_IR'].iloc[start_row, :]\n",
    "        oldest_avg_ir = np.average(oldest_cells_ir)\n",
    "        return oldest_avg_ir - latest_avg_ir\n",
    "    else:\n",
    "        return latest_avg_ir\n",
    "\n",
    "def ir_std(df):\n",
    "    latest_cells_ir = df.loc[:, 'cell_1_IR':'cell_16_IR'].iloc[-1, :]\n",
    "    return np.std(latest_cells_ir)"
   ]
  },
  {
   "cell_type": "code",
   "execution_count": 120,
   "metadata": {},
   "outputs": [
    {
     "name": "stdout",
     "output_type": "stream",
     "text": [
      "28.96966, 0.12914, 3.703e-06, 1.14869e-04\n",
      "31.04129, 0.12180, -3.791e-04, 1.00480e-04\n"
     ]
    }
   ],
   "source": [
    "for fp in [\"NP5_test_summary.csv\", \"NP6_test_summary.csv\"]:\n",
    "    df = pd.read_csv(fp)\n",
    "    soh_deg = avg_soh(df, deg=True)\n",
    "    _soh_std = soh_std(df)\n",
    "    _ir_std =  ir_std(df)\n",
    "    if fp == \"NP6_test_summary.csv\":\n",
    "        ir_avg = avg_ir(df, deg=True, start_row=6)\n",
    "    else:\n",
    "        ir_avg = avg_ir(df, deg=True)\n",
    "    print(f'{soh_deg:.5f}, {_soh_std:.5f}, {ir_avg:.3e}, {_ir_std:.5e}')"
   ]
  },
  {
   "cell_type": "code",
   "execution_count": null,
   "metadata": {},
   "outputs": [],
   "source": []
  }
 ],
 "metadata": {
  "kernelspec": {
   "display_name": "Python 3.10.5 ('battery')",
   "language": "python",
   "name": "python3"
  },
  "language_info": {
   "codemirror_mode": {
    "name": "ipython",
    "version": 3
   },
   "file_extension": ".py",
   "mimetype": "text/x-python",
   "name": "python",
   "nbconvert_exporter": "python",
   "pygments_lexer": "ipython3",
   "version": "3.10.4"
  },
  "orig_nbformat": 4,
  "vscode": {
   "interpreter": {
    "hash": "81099061227ce2eb22b2010f34672196bce8ce6541397e9fdeface56079da64e"
   }
  }
 },
 "nbformat": 4,
 "nbformat_minor": 2
}
